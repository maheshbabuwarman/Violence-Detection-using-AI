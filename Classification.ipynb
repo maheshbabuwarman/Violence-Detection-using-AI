{
 "cells": [
  {
   "cell_type": "code",
   "execution_count": 1,
   "id": "ccb2a3f4",
   "metadata": {},
   "outputs": [],
   "source": [
    "from keras.models import load_model\n",
    "import cv2\n",
    "import numpy as np"
   ]
  },
  {
   "cell_type": "code",
   "execution_count": 2,
   "id": "384a75cd",
   "metadata": {},
   "outputs": [],
   "source": [
    "model=load_model('model4.h5')"
   ]
  },
  {
   "cell_type": "code",
   "execution_count": 3,
   "id": "f2da1b9a",
   "metadata": {},
   "outputs": [],
   "source": [
    "video_path=r'C:\\Users\\mahes\\Desktop\\UTeM\\sem5\\workshop 2\\Coding\\fighttest2.mp4'\n",
    "# video_path=r'C:\\Users\\mahes\\Desktop\\NV more than mins\\NV (992).mp4'\n",
    "vid = cv2.VideoCapture(video_path)"
   ]
  },
  {
   "cell_type": "code",
   "execution_count": 4,
   "id": "f90781a7",
   "metadata": {},
   "outputs": [
    {
     "name": "stdout",
     "output_type": "stream",
     "text": [
      "20\n",
      "Action Predicted: NonViolence\n",
      "Confidence: 0.6752761602401733\n",
      "40\n",
      "Action Predicted: NonViolence\n",
      "Confidence: 0.5559856295585632\n",
      "60\n",
      "Action Predicted: Violence\n",
      "Confidence: 0.6910949349403381\n",
      "80\n",
      "Action Predicted: NonViolence\n",
      "Confidence: 0.6908829808235168\n",
      "100\n",
      "Action Predicted: NonViolence\n",
      "Confidence: 0.7626588940620422\n",
      "120\n",
      "Action Predicted: NonViolence\n",
      "Confidence: 0.5024782419204712\n",
      "140\n",
      "Action Predicted: Violence\n",
      "Confidence: 0.850521445274353\n",
      "160\n",
      "Action Predicted: Violence\n",
      "Confidence: 0.9008324146270752\n",
      "180\n",
      "Action Predicted: Violence\n",
      "Confidence: 0.8968095183372498\n",
      "200\n",
      "Action Predicted: Violence\n",
      "Confidence: 0.7927237153053284\n",
      "220\n",
      "Action Predicted: NonViolence\n",
      "Confidence: 0.730217456817627\n",
      "240\n",
      "Action Predicted: NonViolence\n",
      "Confidence: 0.906721293926239\n",
      "260\n",
      "Action Predicted: NonViolence\n",
      "Confidence: 0.9020501375198364\n",
      "280\n",
      "Action Predicted: NonViolence\n",
      "Confidence: 0.8052343726158142\n",
      "300\n",
      "Action Predicted: NonViolence\n",
      "Confidence: 0.8636810779571533\n",
      "320\n",
      "Action Predicted: NonViolence\n",
      "Confidence: 0.888450562953949\n",
      "340\n",
      "Action Predicted: NonViolence\n",
      "Confidence: 0.8843240737915039\n",
      "360\n",
      "Action Predicted: NonViolence\n",
      "Confidence: 0.9122884273529053\n",
      "380\n",
      "Action Predicted: NonViolence\n",
      "Confidence: 0.7089024186134338\n",
      "400\n",
      "Action Predicted: NonViolence\n",
      "Confidence: 0.699836254119873\n",
      "420\n",
      "Action Predicted: Violence\n",
      "Confidence: 0.575944721698761\n"
     ]
    }
   ],
   "source": [
    "buffer = []\n",
    "CLASSES_LIST = [\"Violence\", \"NonViolence\"]\n",
    "predicted_class_name = ''\n",
    "predicted_value = 0\n",
    "final_label = \"\"\n",
    "i = 1\n",
    "while (vid.isOpened()):\n",
    "    ret,frame = vid.read()\n",
    "    if ret:\n",
    "        cv2.imshow('frame', frame)\n",
    "        key = cv2.waitKey(20)\n",
    "        image = cv2.resize(frame,(90,90))\n",
    "        image = image/255.0\n",
    "        buffer.append(image)\n",
    "        if(i%20==0):\n",
    "            print(i)\n",
    "            \n",
    "            # Passing the  pre-processed frames to the model and get the predicted probabilities.\n",
    "            predicted_labels_probabilities = model.predict(np.expand_dims(buffer, axis = 0))[0]\n",
    "\n",
    "            # Get the index of class with highest probability.\n",
    "            predicted_label = np.argmax(predicted_labels_probabilities)\n",
    "\n",
    "            # Get the class name using the retrieved index.\n",
    "            predicted_class_name = CLASSES_LIST[predicted_label]\n",
    "\n",
    "            # Display the predicted action along with the prediction confidence.\n",
    "            print(f'Action Predicted: {predicted_class_name}\\nConfidence: {predicted_labels_probabilities[predicted_label]}')\n",
    "            \n",
    "            buffer=[]\n",
    "   \n",
    "        i = i+1\n",
    "        text = \"activity: {}\".format(predicted_class_name)\n",
    "        cv2.putText(frame, text, (20, 35), cv2.FONT_HERSHEY_SIMPLEX,1.25, (0, 255, 0), 5) \n",
    "        cv2.imshow('frame',frame)\n",
    "    if cv2.waitKey(1) & 0xFF == ord('q'):\n",
    "        break\n",
    "vid.release()\n",
    "cv2.destroyAllWindows()\n"
   ]
  }
 ],
 "metadata": {
  "kernelspec": {
   "display_name": "Python 3.9.12 ('virt')",
   "language": "python",
   "name": "python3"
  },
  "language_info": {
   "codemirror_mode": {
    "name": "ipython",
    "version": 3
   },
   "file_extension": ".py",
   "mimetype": "text/x-python",
   "name": "python",
   "nbconvert_exporter": "python",
   "pygments_lexer": "ipython3",
   "version": "3.9.12"
  },
  "vscode": {
   "interpreter": {
    "hash": "437564ac2c29117c5cadfe753664a9949ad32e918b80916601605e0ad356742f"
   }
  }
 },
 "nbformat": 4,
 "nbformat_minor": 5
}
